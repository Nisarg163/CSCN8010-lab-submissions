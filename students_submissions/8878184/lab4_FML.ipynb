{
 "cells": [
  {
   "cell_type": "markdown",
   "id": "48c0bef4",
   "metadata": {},
   "source": [
    "Name-Nisarg Patel\n",
    "Student ID-8878184"
   ]
  },
  {
   "cell_type": "code",
   "execution_count": 1,
   "id": "d49fa2aa",
   "metadata": {},
   "outputs": [],
   "source": [
    "# Importing the necessary libraries\n",
    "\n",
    "import numpy as np\n",
    "import matplotlib.pyplot as plt\n",
    "import seaborn as sns\n",
    "from sklearn import datasets\n",
    "from sklearn.model_selection import train_test_split\n",
    "from sklearn.linear_model import LinearRegression\n",
    "from sklearn.preprocessing import PolynomialFeatures\n",
    "from sklearn.pipeline import Pipeline \n",
    "from sklearn.metrics import mean_absolute_error , mean_absolute_percentage_error , r2_score"
   ]
  },
  {
   "cell_type": "code",
   "execution_count": 3,
   "id": "3dadc889",
   "metadata": {},
   "outputs": [],
   "source": [
    "X, y = datasets.load_diabetes(return_X_y=True, as_frame=True) \n",
    "# returns 2 dataframes \n",
    "# 1. X(indepedent values) \n",
    "# 2. y(depedent value)"
   ]
  },
  {
   "cell_type": "code",
   "execution_count": 4,
   "id": "bbef2930",
   "metadata": {},
   "outputs": [
    {
     "data": {
      "text/html": [
       "<div>\n",
       "<style scoped>\n",
       "    .dataframe tbody tr th:only-of-type {\n",
       "        vertical-align: middle;\n",
       "    }\n",
       "\n",
       "    .dataframe tbody tr th {\n",
       "        vertical-align: top;\n",
       "    }\n",
       "\n",
       "    .dataframe thead th {\n",
       "        text-align: right;\n",
       "    }\n",
       "</style>\n",
       "<table border=\"1\" class=\"dataframe\">\n",
       "  <thead>\n",
       "    <tr style=\"text-align: right;\">\n",
       "      <th></th>\n",
       "      <th>age</th>\n",
       "      <th>sex</th>\n",
       "      <th>bmi</th>\n",
       "      <th>bp</th>\n",
       "      <th>s1</th>\n",
       "      <th>s2</th>\n",
       "      <th>s3</th>\n",
       "      <th>s4</th>\n",
       "      <th>s5</th>\n",
       "      <th>s6</th>\n",
       "    </tr>\n",
       "  </thead>\n",
       "  <tbody>\n",
       "    <tr>\n",
       "      <th>0</th>\n",
       "      <td>0.038076</td>\n",
       "      <td>0.050680</td>\n",
       "      <td>0.061696</td>\n",
       "      <td>0.021872</td>\n",
       "      <td>-0.044223</td>\n",
       "      <td>-0.034821</td>\n",
       "      <td>-0.043401</td>\n",
       "      <td>-0.002592</td>\n",
       "      <td>0.019908</td>\n",
       "      <td>-0.017646</td>\n",
       "    </tr>\n",
       "    <tr>\n",
       "      <th>1</th>\n",
       "      <td>-0.001882</td>\n",
       "      <td>-0.044642</td>\n",
       "      <td>-0.051474</td>\n",
       "      <td>-0.026328</td>\n",
       "      <td>-0.008449</td>\n",
       "      <td>-0.019163</td>\n",
       "      <td>0.074412</td>\n",
       "      <td>-0.039493</td>\n",
       "      <td>-0.068330</td>\n",
       "      <td>-0.092204</td>\n",
       "    </tr>\n",
       "    <tr>\n",
       "      <th>2</th>\n",
       "      <td>0.085299</td>\n",
       "      <td>0.050680</td>\n",
       "      <td>0.044451</td>\n",
       "      <td>-0.005671</td>\n",
       "      <td>-0.045599</td>\n",
       "      <td>-0.034194</td>\n",
       "      <td>-0.032356</td>\n",
       "      <td>-0.002592</td>\n",
       "      <td>0.002864</td>\n",
       "      <td>-0.025930</td>\n",
       "    </tr>\n",
       "    <tr>\n",
       "      <th>3</th>\n",
       "      <td>-0.089063</td>\n",
       "      <td>-0.044642</td>\n",
       "      <td>-0.011595</td>\n",
       "      <td>-0.036656</td>\n",
       "      <td>0.012191</td>\n",
       "      <td>0.024991</td>\n",
       "      <td>-0.036038</td>\n",
       "      <td>0.034309</td>\n",
       "      <td>0.022692</td>\n",
       "      <td>-0.009362</td>\n",
       "    </tr>\n",
       "    <tr>\n",
       "      <th>4</th>\n",
       "      <td>0.005383</td>\n",
       "      <td>-0.044642</td>\n",
       "      <td>-0.036385</td>\n",
       "      <td>0.021872</td>\n",
       "      <td>0.003935</td>\n",
       "      <td>0.015596</td>\n",
       "      <td>0.008142</td>\n",
       "      <td>-0.002592</td>\n",
       "      <td>-0.031991</td>\n",
       "      <td>-0.046641</td>\n",
       "    </tr>\n",
       "    <tr>\n",
       "      <th>5</th>\n",
       "      <td>-0.092695</td>\n",
       "      <td>-0.044642</td>\n",
       "      <td>-0.040696</td>\n",
       "      <td>-0.019442</td>\n",
       "      <td>-0.068991</td>\n",
       "      <td>-0.079288</td>\n",
       "      <td>0.041277</td>\n",
       "      <td>-0.076395</td>\n",
       "      <td>-0.041180</td>\n",
       "      <td>-0.096346</td>\n",
       "    </tr>\n",
       "    <tr>\n",
       "      <th>6</th>\n",
       "      <td>-0.045472</td>\n",
       "      <td>0.050680</td>\n",
       "      <td>-0.047163</td>\n",
       "      <td>-0.015999</td>\n",
       "      <td>-0.040096</td>\n",
       "      <td>-0.024800</td>\n",
       "      <td>0.000779</td>\n",
       "      <td>-0.039493</td>\n",
       "      <td>-0.062913</td>\n",
       "      <td>-0.038357</td>\n",
       "    </tr>\n",
       "    <tr>\n",
       "      <th>7</th>\n",
       "      <td>0.063504</td>\n",
       "      <td>0.050680</td>\n",
       "      <td>-0.001895</td>\n",
       "      <td>0.066630</td>\n",
       "      <td>0.090620</td>\n",
       "      <td>0.108914</td>\n",
       "      <td>0.022869</td>\n",
       "      <td>0.017703</td>\n",
       "      <td>-0.035817</td>\n",
       "      <td>0.003064</td>\n",
       "    </tr>\n",
       "    <tr>\n",
       "      <th>8</th>\n",
       "      <td>0.041708</td>\n",
       "      <td>0.050680</td>\n",
       "      <td>0.061696</td>\n",
       "      <td>-0.040099</td>\n",
       "      <td>-0.013953</td>\n",
       "      <td>0.006202</td>\n",
       "      <td>-0.028674</td>\n",
       "      <td>-0.002592</td>\n",
       "      <td>-0.014956</td>\n",
       "      <td>0.011349</td>\n",
       "    </tr>\n",
       "    <tr>\n",
       "      <th>9</th>\n",
       "      <td>-0.070900</td>\n",
       "      <td>-0.044642</td>\n",
       "      <td>0.039062</td>\n",
       "      <td>-0.033214</td>\n",
       "      <td>-0.012577</td>\n",
       "      <td>-0.034508</td>\n",
       "      <td>-0.024993</td>\n",
       "      <td>-0.002592</td>\n",
       "      <td>0.067736</td>\n",
       "      <td>-0.013504</td>\n",
       "    </tr>\n",
       "  </tbody>\n",
       "</table>\n",
       "</div>"
      ],
      "text/plain": [
       "        age       sex       bmi        bp        s1        s2        s3  \\\n",
       "0  0.038076  0.050680  0.061696  0.021872 -0.044223 -0.034821 -0.043401   \n",
       "1 -0.001882 -0.044642 -0.051474 -0.026328 -0.008449 -0.019163  0.074412   \n",
       "2  0.085299  0.050680  0.044451 -0.005671 -0.045599 -0.034194 -0.032356   \n",
       "3 -0.089063 -0.044642 -0.011595 -0.036656  0.012191  0.024991 -0.036038   \n",
       "4  0.005383 -0.044642 -0.036385  0.021872  0.003935  0.015596  0.008142   \n",
       "5 -0.092695 -0.044642 -0.040696 -0.019442 -0.068991 -0.079288  0.041277   \n",
       "6 -0.045472  0.050680 -0.047163 -0.015999 -0.040096 -0.024800  0.000779   \n",
       "7  0.063504  0.050680 -0.001895  0.066630  0.090620  0.108914  0.022869   \n",
       "8  0.041708  0.050680  0.061696 -0.040099 -0.013953  0.006202 -0.028674   \n",
       "9 -0.070900 -0.044642  0.039062 -0.033214 -0.012577 -0.034508 -0.024993   \n",
       "\n",
       "         s4        s5        s6  \n",
       "0 -0.002592  0.019908 -0.017646  \n",
       "1 -0.039493 -0.068330 -0.092204  \n",
       "2 -0.002592  0.002864 -0.025930  \n",
       "3  0.034309  0.022692 -0.009362  \n",
       "4 -0.002592 -0.031991 -0.046641  \n",
       "5 -0.076395 -0.041180 -0.096346  \n",
       "6 -0.039493 -0.062913 -0.038357  \n",
       "7  0.017703 -0.035817  0.003064  \n",
       "8 -0.002592 -0.014956  0.011349  \n",
       "9 -0.002592  0.067736 -0.013504  "
      ]
     },
     "execution_count": 4,
     "metadata": {},
     "output_type": "execute_result"
    }
   ],
   "source": [
    "X.head(10)"
   ]
  },
  {
   "cell_type": "code",
   "execution_count": 5,
   "id": "763b3c21",
   "metadata": {},
   "outputs": [
    {
     "data": {
      "text/plain": [
       "0    151.0\n",
       "1     75.0\n",
       "2    141.0\n",
       "3    206.0\n",
       "4    135.0\n",
       "Name: target, dtype: float64"
      ]
     },
     "execution_count": 5,
     "metadata": {},
     "output_type": "execute_result"
    }
   ],
   "source": [
    "y.head()"
   ]
  },
  {
   "cell_type": "code",
   "execution_count": 6,
   "id": "ce8f6cf1",
   "metadata": {},
   "outputs": [
    {
     "data": {
      "text/plain": [
       "((442, 10), (442,))"
      ]
     },
     "execution_count": 6,
     "metadata": {},
     "output_type": "execute_result"
    }
   ],
   "source": [
    "X.shape , y.shape"
   ]
  },
  {
   "cell_type": "code",
   "execution_count": 7,
   "id": "41e0f5d0",
   "metadata": {},
   "outputs": [],
   "source": [
    "#Get the data, and run a train-validation-test split\n",
    "\n",
    "X_train, X_test, y_train, y_test = train_test_split(X, y, test_size=0.2, random_state=42)\n",
    "\n",
    "X_train, X_val, y_train, y_val = train_test_split(X_train, y_train, test_size=0.2, random_state=42) "
   ]
  },
  {
   "cell_type": "code",
   "execution_count": 8,
   "id": "4259791c",
   "metadata": {},
   "outputs": [
    {
     "data": {
      "text/plain": [
       "LinearRegression()"
      ]
     },
     "execution_count": 8,
     "metadata": {},
     "output_type": "execute_result"
    }
   ],
   "source": [
    "#Run a multivariate linear regression on all variables\n",
    "\n",
    "model_all = LinearRegression()\n",
    "model_all.fit(X_train,y_train)"
   ]
  },
  {
   "cell_type": "code",
   "execution_count": 9,
   "id": "31f3c1dc",
   "metadata": {},
   "outputs": [
    {
     "name": "stdout",
     "output_type": "stream",
     "text": [
      "Coefficients or the Slope(m) of the model is: \n",
      "age\t 7.035616719487141\n",
      "sex\t -246.78499668983326\n",
      "bmi\t 547.2491789384372\n",
      "bp\t 324.7966481687193\n",
      "s1\t -921.8551151308552\n",
      "s2\t 472.11248599291594\n",
      "s3\t 172.47091173937798\n",
      "s4\t 292.8510752140103\n",
      "s5\t 764.5933899283848\n",
      "s6\t 83.23871305648963\n",
      "intercept(c) of the model is: \t 147.8365248135677\n",
      "Equation:  y = 147.84+ 7.04x^1+ -246.78x^2+ 547.25x^3+ 324.80x^4+ -921.86x^5+ 472.11x^6+ 172.47x^7+ 292.85x^8+ 764.59x^9+ 83.24x^10\n"
     ]
    }
   ],
   "source": [
    "# Make predictions using the testing set\n",
    "y_pred_all = model_all.predict(X_val)\n",
    "y_pred_train_all = model_all.predict(X_train)\n",
    "\n",
    "# The coefficients and intercept\n",
    "print('Coefficients or the Slope(m) of the model is: ')\n",
    "cols = X.columns\n",
    "equ =  f\"y = {model_all.intercept_:.2f}\"\n",
    "for i,j in  enumerate(model_all.coef_):\n",
    "    print(f'{cols[i]}\\t {j}')\n",
    "    equ += f'+ {j:.2f}x^{i+1}'\n",
    "print('intercept(c) of the model is: \\t',model_all.intercept_)\n",
    "print('Equation: ',equ)"
   ]
  },
  {
   "cell_type": "code",
   "execution_count": 10,
   "id": "818fa1db",
   "metadata": {},
   "outputs": [],
   "source": [
    "# Making function for building a pipeline\n",
    "def makeModelPipe(X_data,y_data):\n",
    "    model = Pipeline([('polynomial', PolynomialFeatures(degree=2 , include_bias=False)), \n",
    "                    ('linear', LinearRegression())])\n",
    "    return model.fit(X_data, y_data)\n",
    "\n",
    "# The coefficients and intercept\n",
    "def getEqu(model):\n",
    "    print('Coefficients or the Slope(m) of the model is: ')\n",
    "    equ =  f\"y = {model[1].intercept_:.2f}\"\n",
    "    for i,j in  enumerate(model[1].coef_[1:]):\n",
    "        print(f'{i}\\t {j}')\n",
    "        equ += f'+ {j:.2f}x^{i+1}'\n",
    "    print('intercept(c) of the model is: \\t',model[1].intercept_)\n",
    "    print('Equation: ',equ)\n",
    "    \n",
    "# making function for visualization\n",
    "def plot_model(X, y, model):\n",
    "    # Calculate the number of rows and columns for the subplots\n",
    "    X_lin = np.linspace(min(X), max(X), 100)\n",
    "    plt.figure(figsize=[15,7])\n",
    "    plt.title('')\n",
    "    plt.scatter(X, y, s=20, label=\"data\")\n",
    "    plt.plot(X_lin, model.predict(X_lin),color='r', label=\"Model\", lw=3)\n",
    "    plt.xlabel(\"data\")\n",
    "    plt.ylabel(\"target\")\n",
    "    plt.legend()\n",
    "    plt.show()"
   ]
  },
  {
   "cell_type": "code",
   "execution_count": 11,
   "id": "7cadae6f",
   "metadata": {},
   "outputs": [
    {
     "name": "stdout",
     "output_type": "stream",
     "text": [
      "Coefficients or the Slope(m) of the model is: \n",
      "0\t 1730.684646399792\n",
      "intercept(c) of the model is: \t 145.04962845704327\n",
      "Equation:  y = 145.05+ 1730.68x^1\n"
     ]
    }
   ],
   "source": [
    "#Run a polynomial regression of the 2nd degree on the BMI feature alone\n",
    "\n",
    "# Getting only the bmi data\n",
    "X_train_bmi = np.array(X_train['bmi']).reshape(-1,1)\n",
    "X_val_bmi = np.array(X_val['bmi']).reshape(-1,1)\n",
    "\n",
    "# Make predictions using the testing set\n",
    "model_bmi = makeModelPipe(X_train_bmi,y_train)\n",
    "y_pred_bmi = model_bmi.predict(X_val_bmi)\n",
    "y_pred_train_bmi = model_bmi.predict(X_train_bmi)\n",
    "\n",
    "getEqu(model_bmi)"
   ]
  },
  {
   "cell_type": "code",
   "execution_count": 12,
   "id": "15f35b7d",
   "metadata": {},
   "outputs": [
    {
     "name": "stdout",
     "output_type": "stream",
     "text": [
      "Coefficients or the Slope(m) of the model is: \n",
      "0\t -294.2080086841063\n",
      "1\t 419.2010390675124\n",
      "2\t 374.02939695761484\n",
      "3\t 6125.604636558844\n",
      "4\t -5596.239214448126\n",
      "5\t -2527.789596386122\n",
      "6\t 142.42213197121885\n",
      "7\t -1369.4860762488145\n",
      "8\t 35.27709489038034\n",
      "9\t 2738.9492546707284\n",
      "10\t 1978.9207071789344\n",
      "11\t -531.0028700527813\n",
      "12\t 792.8471887140352\n",
      "13\t -5281.5978425644735\n",
      "14\t -4386.592852978872\n",
      "15\t 7198.632650422597\n",
      "16\t 8304.255257139772\n",
      "17\t 2951.63404279809\n",
      "18\t 322.0985115762917\n",
      "19\t -1.7765698130536087\n",
      "20\t 663.4371695081152\n",
      "21\t 1903.4023322820349\n",
      "22\t 12428.175689038417\n",
      "23\t -5472.986089482095\n",
      "24\t -8259.36097606115\n",
      "25\t -10103.734298958745\n",
      "26\t -3504.995234990181\n",
      "27\t 420.6699218304134\n",
      "28\t 1869.469785737541\n",
      "29\t 3536.350127045135\n",
      "30\t -15280.96178485793\n",
      "31\t 15611.451296621824\n",
      "32\t 5256.51224853989\n",
      "33\t -3450.3835220897467\n",
      "34\t 7058.905461738664\n",
      "35\t 384.1981959220748\n",
      "36\t -136.9551298480278\n",
      "37\t 28941.29049986957\n",
      "38\t -22321.57708647468\n",
      "39\t -12783.49677811111\n",
      "40\t -1533.8713294173895\n",
      "41\t -12089.878757269062\n",
      "42\t -3068.3336581212243\n",
      "43\t 37164.78688995593\n",
      "44\t -76723.10359968002\n",
      "45\t 22806.713986686256\n",
      "46\t 33861.722675372795\n",
      "47\t -75033.04628341594\n",
      "48\t -15247.109155654269\n",
      "49\t 41141.67072042347\n",
      "50\t -19158.70111976026\n",
      "51\t -39653.10510531122\n",
      "52\t 69626.57179638547\n",
      "53\t 10436.280642997242\n",
      "54\t -13398.537595823545\n",
      "55\t -12085.477806836227\n",
      "56\t 12867.498491176972\n",
      "57\t 9410.190286102103\n",
      "58\t 7831.383565073767\n",
      "59\t -14817.056097702502\n",
      "60\t 5333.738325182062\n",
      "61\t 8054.014795098997\n",
      "62\t 10436.123474947319\n",
      "63\t 136.8596611706423\n",
      "intercept(c) of the model is: \t 161.75077456850946\n",
      "Equation:  y = 161.75+ -294.21x^1+ 419.20x^2+ 374.03x^3+ 6125.60x^4+ -5596.24x^5+ -2527.79x^6+ 142.42x^7+ -1369.49x^8+ 35.28x^9+ 2738.95x^10+ 1978.92x^11+ -531.00x^12+ 792.85x^13+ -5281.60x^14+ -4386.59x^15+ 7198.63x^16+ 8304.26x^17+ 2951.63x^18+ 322.10x^19+ -1.78x^20+ 663.44x^21+ 1903.40x^22+ 12428.18x^23+ -5472.99x^24+ -8259.36x^25+ -10103.73x^26+ -3505.00x^27+ 420.67x^28+ 1869.47x^29+ 3536.35x^30+ -15280.96x^31+ 15611.45x^32+ 5256.51x^33+ -3450.38x^34+ 7058.91x^35+ 384.20x^36+ -136.96x^37+ 28941.29x^38+ -22321.58x^39+ -12783.50x^40+ -1533.87x^41+ -12089.88x^42+ -3068.33x^43+ 37164.79x^44+ -76723.10x^45+ 22806.71x^46+ 33861.72x^47+ -75033.05x^48+ -15247.11x^49+ 41141.67x^50+ -19158.70x^51+ -39653.11x^52+ 69626.57x^53+ 10436.28x^54+ -13398.54x^55+ -12085.48x^56+ 12867.50x^57+ 9410.19x^58+ 7831.38x^59+ -14817.06x^60+ 5333.74x^61+ 8054.01x^62+ 10436.12x^63+ 136.86x^64\n"
     ]
    }
   ],
   "source": [
    "#Run a multivariate polynomial regression of the 2nd degree on all variables.\n",
    "\n",
    "# Make predictions using the testing set\n",
    "model_ploy_all = makeModelPipe(X_train,y_train)\n",
    "y_pred_ploy_all = model_ploy_all.predict(X_val)\n",
    "y_pred_train_ploy_all = model_ploy_all.predict(X_train)\n",
    "\n",
    "getEqu(model_ploy_all)"
   ]
  },
  {
   "cell_type": "code",
   "execution_count": 17,
   "id": "11c37fdf",
   "metadata": {},
   "outputs": [
    {
     "name": "stdout",
     "output_type": "stream",
     "text": [
      "For multi Linear Regression model\n",
      "Mean Absolute Precentage error: 39.97%\n",
      "Mean Absolute error: 43.31\n",
      "The model is preforming 53.06% better than a navie model\n",
      "==================================================\n",
      "For Polynomial Regession model on BMI\n",
      "Mean Absolute Precentage error: 48.05%\n",
      "Mean Absolute error: 50.84\n",
      "The model is preforming 37.32% better than a navie model\n",
      "==================================================\n",
      "For Polynomial Regession model on All data\n",
      "Mean Absolute Precentage error: 34.75%\n",
      "Mean Absolute error: 38.46\n",
      "The model is preforming 62.25% better than a navie model\n",
      "==================================================\n"
     ]
    }
   ],
   "source": [
    "#Compare the three models by looking at R-squared, MAPE and MAE.\n",
    "\n",
    "def getMetrics(y,y_pred):\n",
    "    print(f'Mean Absolute Precentage error: {(mean_absolute_percentage_error(y, y_pred)*100):.2f}%')\n",
    "    print(f'Mean Absolute error: {mean_absolute_error(y, y_pred):.2f}')\n",
    "    print(f'The model is preforming {r2_score(y,y_pred)*100:.2f}% better than a navie model')\n",
    "\n",
    "# Comparing all the models on training data\n",
    "\n",
    "print('For multi Linear Regression model')\n",
    "getMetrics(y_train,y_pred_train_all)\n",
    "print('='*_,end = '\\n')\n",
    "\n",
    "print('For Polynomial Regession model on BMI')\n",
    "getMetrics(y_train,y_pred_train_bmi)\n",
    "print('='*_,end = '\\n')\n",
    "\n",
    "print('For Polynomial Regession model on All data')\n",
    "getMetrics(y_train,y_pred_train_ploy_all)\n",
    "print('='*_,end = '\\n')"
   ]
  },
  {
   "cell_type": "code",
   "execution_count": 18,
   "id": "bff09c78",
   "metadata": {},
   "outputs": [
    {
     "name": "stdout",
     "output_type": "stream",
     "text": [
      "For multi Linear Regression model\n",
      "Mean Absolute Precentage error: 30.31%\n",
      "Mean Absolute error: 44.59\n",
      "The model is preforming 47.01% better than a navie model\n",
      "==================================================\n",
      "For Polynomial Regession model on BMI\n",
      "Mean Absolute Precentage error: 38.64%\n",
      "Mean Absolute error: 52.17\n",
      "The model is preforming 28.33% better than a navie model\n",
      "==================================================\n",
      "For Polynomial Regession model on All data\n",
      "Mean Absolute Precentage error: 30.38%\n",
      "Mean Absolute error: 46.54\n",
      "The model is preforming 34.31% better than a navie model\n",
      "==================================================\n"
     ]
    }
   ],
   "source": [
    "# Comparing all the models on Validation data\n",
    "\n",
    "print('For multi Linear Regression model')\n",
    "getMetrics(y_val,y_pred_all)\n",
    "print('='*_,end = '\\n')\n",
    "\n",
    "print('For Polynomial Regession model on BMI')\n",
    "getMetrics(y_val,y_pred_bmi)\n",
    "print('='*_,end = '\\n')\n",
    "\n",
    "print('For Polynomial Regession model on All data')\n",
    "getMetrics(y_val,y_pred_ploy_all)\n",
    "print('='*_,end = '\\n')"
   ]
  },
  {
   "cell_type": "code",
   "execution_count": 19,
   "id": "f8a2675b",
   "metadata": {},
   "outputs": [
    {
     "name": "stdout",
     "output_type": "stream",
     "text": [
      "For multi Linear Regression model\n",
      "Mean Absolute Precentage error: 36.83%\n",
      "Mean Absolute error: 42.91\n",
      "The model is preforming 45.06% better than a navie model\n",
      "==================================================\n",
      "\n",
      "For Polynomial Regession model on BMI\n",
      "Mean Absolute Precentage error: 44.85%\n",
      "Mean Absolute error: 52.31\n",
      "The model is preforming 21.70% better than a navie model\n",
      "==================================================\n",
      "\n",
      "For Polynomial Regession model on All data\n",
      "Mean Absolute Precentage error: 38.47%\n",
      "Mean Absolute error: 45.85\n",
      "The model is preforming 35.02% better than a navie model\n",
      "==================================================\n",
      "\n"
     ]
    }
   ],
   "source": [
    "# Comparing all the models on Test data\n",
    "\n",
    "print('For multi Linear Regression model')\n",
    "y_pred_test_all = model_all.predict(X_test)\n",
    "getMetrics(y_test,y_pred_test_all)\n",
    "print('='*_,end = '\\n\\n')\n",
    "\n",
    "print('For Polynomial Regession model on BMI')\n",
    "y_pred_test_bmi = model_bmi.predict(np.array(X_test['bmi']).reshape(-1,1))\n",
    "getMetrics(y_test,y_pred_test_bmi)\n",
    "print('='*_,end = '\\n\\n')\n",
    "\n",
    "print('For Polynomial Regession model on All data')\n",
    "y_pred_test_ploy_all = model_ploy_all.predict(X_test)\n",
    "getMetrics(y_test,y_pred_test_ploy_all)\n",
    "print('='*_,end = '\\n\\n')"
   ]
  },
  {
   "cell_type": "markdown",
   "id": "5809fdaf",
   "metadata": {},
   "source": [
    "# Which model would you choose for deployment, and why?\n",
    "\n",
    "-Multi Variant Linear Regression\n",
    "\n",
    "-In comparison to the other models, it has the greatest R-squared value (0.4506), meaning that it explains more variance in the target variable.\n",
    "\n",
    "-The Multivariate Linear Regression has the lowest MAPE (36.83), which demonstrates that, generally speaking, its predictions are the closest to the actual values."
   ]
  }
 ],
 "metadata": {
  "kernelspec": {
   "display_name": "Python 3 (ipykernel)",
   "language": "python",
   "name": "python3"
  },
  "language_info": {
   "codemirror_mode": {
    "name": "ipython",
    "version": 3
   },
   "file_extension": ".py",
   "mimetype": "text/x-python",
   "name": "python",
   "nbconvert_exporter": "python",
   "pygments_lexer": "ipython3",
   "version": "3.9.13"
  }
 },
 "nbformat": 4,
 "nbformat_minor": 5
}
